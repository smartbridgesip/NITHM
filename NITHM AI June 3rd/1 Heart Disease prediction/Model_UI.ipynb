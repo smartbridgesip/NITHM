{
 "cells": [
  {
   "cell_type": "code",
   "execution_count": 1,
   "metadata": {},
   "outputs": [
    {
     "name": "stderr",
     "output_type": "stream",
     "text": [
      "C:\\Users\\user\\Anaconda3\\lib\\site-packages\\h5py\\__init__.py:34: FutureWarning: Conversion of the second argument of issubdtype from `float` to `np.floating` is deprecated. In future, it will be treated as `np.float64 == np.dtype(float).type`.\n",
      "  from ._conv import register_converters as _register_converters\n",
      "Using TensorFlow backend.\n"
     ]
    }
   ],
   "source": [
    "from tkinter import *\n",
    "from keras.models import load_model"
   ]
  },
  {
   "cell_type": "code",
   "execution_count": 2,
   "metadata": {},
   "outputs": [],
   "source": [
    "model = load_model('Classifier3.h5')"
   ]
  },
  {
   "cell_type": "code",
   "execution_count": 3,
   "metadata": {},
   "outputs": [],
   "source": [
    "top = Tk()\n",
    "top.geometry(\"550x300+300+150\")\n",
    "top.resizable(width=True, height=True)\n",
    "L1 = Label(top, text=\"Enter Age\")\n",
    "L1.pack()\n",
    "E1 = Entry(top, bd =5)\n",
    "E1.pack()\n",
    "L2 = Label(top, text=\"Enter Gender\")\n",
    "L2.pack()\n",
    "E2 = Entry(top, bd =5)\n",
    "E2.pack()\n",
    "L3 = Label(top, text=\"Enter CP\")\n",
    "L3.pack()\n",
    "E3 = Entry(top, bd =5)\n",
    "E3.pack()\n",
    "L4 = Label(top, text=\"Enter restBP\")\n",
    "L4.pack()\n",
    "E4 = Entry(top, bd =5)\n",
    "E4.pack()\n",
    "L5 = Label(top, text=\"Enter Chol\")\n",
    "L5.pack()\n",
    "E5 = Entry(top, bd =5)\n",
    "E5.pack()\n",
    "L6 = Label(top, text=\"Enter FBS\")\n",
    "L6.pack()\n",
    "E6 = Entry(top, bd =5)\n",
    "E6.pack()\n",
    "L7 = Label(top, text=\"Enter RestECG\")\n",
    "L7.pack()\n",
    "E7 = Entry(top, bd =5)\n",
    "E7.pack()\n",
    "L8 = Label(top, text=\"Enter MaxHeartRate\")\n",
    "L8.pack()\n",
    "E8 = Entry(top, bd =5)\n",
    "E8.pack()\n",
    "L9 = Label(top, text=\"Enter Angina\")\n",
    "L9.pack()\n",
    "E9 = Entry(top, bd =5)\n",
    "E9.pack()\n",
    "L10 = Label(top, text=\"Enter OldPeak\")\n",
    "L10.pack()\n",
    "E10= Entry(top, bd =5)\n",
    "E10.pack()\n",
    "L11= Label(top, text=\"Enter SlopePeak\")\n",
    "L11.pack()\n",
    "E11= Entry(top, bd =5)\n",
    "E11.pack()\n",
    "L12= Label(top, text=\"Enter BloodSugar\")\n",
    "L12.pack()\n",
    "E12= Entry(top, bd =5)\n",
    "E12.pack()\n",
    "L13= Label(top, text=\"Enter Thal\")\n",
    "L13.pack()\n",
    "E13= Entry(top, bd =5)\n",
    "E13.pack()"
   ]
  },
  {
   "cell_type": "code",
   "execution_count": 4,
   "metadata": {},
   "outputs": [],
   "source": [
    "import numpy as np"
   ]
  },
  {
   "cell_type": "code",
   "execution_count": 5,
   "metadata": {},
   "outputs": [],
   "source": [
    "def predict1():\n",
    "    \n",
    "    print(\"Prediction on progress..\")\n",
    "    entered_input=[]\n",
    "    entered_input.append(E1.get())\n",
    "    entered_input.append(E2.get())\n",
    "    entered_input.append(E3.get())\n",
    "    entered_input.append(E4.get())\n",
    "    entered_input.append(E5.get())\n",
    "    entered_input.append(E6.get())\n",
    "    entered_input.append(E7.get())\n",
    "    entered_input.append(E8.get())\n",
    "    entered_input.append(E9.get())\n",
    "    entered_input.append(E10.get())\n",
    "    entered_input.append(E11.get())\n",
    "    entered_input.append(E12.get())\n",
    "    entered_input.append(E13.get())\n",
    "    print(\"Entered Input\",entered_input)\n",
    "    inp=[[entered_input]]\n",
    "    x=[[E1.get(),E2.get(),E3.get(),E4.get(),E5.get(),E6.get(),E7.get(),E8.get(),E9.get(),E10.get(),E11.get(),E12.get(),E13.get()]]\n",
    "    for i in range(1,11):\n",
    "        inp.append(x)\n",
    "    inp=np.array(inp)\n",
    "    inp=inp.reshape(11,13)\n",
    "    print(type(inp))\n",
    "    print(inp)\n",
    "    inp1=inp[np.newaxis,:]\n",
    "    y_pred=model.predict(inp1)\n",
    "    print(y_pred)\n",
    "    y_pred=(y_pred>0.5)\n",
    "    print(y_pred)\n",
    "    if y_pred==True:\n",
    "        text=\"Heart Disease Detected\"\n",
    "       \n",
    "    else:\n",
    "        text=\"No Heart Disease Detected\"\n",
    "    L14 = Label(top, text=\"Prediction: \"+text)\n",
    "    L14.pack()"
   ]
  },
  {
   "cell_type": "code",
   "execution_count": 6,
   "metadata": {},
   "outputs": [
    {
     "name": "stdout",
     "output_type": "stream",
     "text": [
      "Prediction on progress..\n",
      "Entered Input ['70', '1', '0', '145', '174', '0', '1', '125', '1', '2.6', '0', '0', '3']\n",
      "<class 'numpy.ndarray'>\n",
      "[['70' '1' '0' '145' '174' '0' '1' '125' '1' '2.6' '0' '0' '3']\n",
      " ['70' '1' '0' '145' '174' '0' '1' '125' '1' '2.6' '0' '0' '3']\n",
      " ['70' '1' '0' '145' '174' '0' '1' '125' '1' '2.6' '0' '0' '3']\n",
      " ['70' '1' '0' '145' '174' '0' '1' '125' '1' '2.6' '0' '0' '3']\n",
      " ['70' '1' '0' '145' '174' '0' '1' '125' '1' '2.6' '0' '0' '3']\n",
      " ['70' '1' '0' '145' '174' '0' '1' '125' '1' '2.6' '0' '0' '3']\n",
      " ['70' '1' '0' '145' '174' '0' '1' '125' '1' '2.6' '0' '0' '3']\n",
      " ['70' '1' '0' '145' '174' '0' '1' '125' '1' '2.6' '0' '0' '3']\n",
      " ['70' '1' '0' '145' '174' '0' '1' '125' '1' '2.6' '0' '0' '3']\n",
      " ['70' '1' '0' '145' '174' '0' '1' '125' '1' '2.6' '0' '0' '3']\n",
      " ['70' '1' '0' '145' '174' '0' '1' '125' '1' '2.6' '0' '0' '3']]\n",
      "[[0.00140289]]\n",
      "[[False]]\n",
      "Prediction on progress..\n",
      "Entered Input ['71', '0', '0', '112', '149', '0', '1', '125', '0', '1.6', '1', '0', '2']\n",
      "<class 'numpy.ndarray'>\n",
      "[['71' '0' '0' '112' '149' '0' '1' '125' '0' '1.6' '1' '0' '2']\n",
      " ['71' '0' '0' '112' '149' '0' '1' '125' '0' '1.6' '1' '0' '2']\n",
      " ['71' '0' '0' '112' '149' '0' '1' '125' '0' '1.6' '1' '0' '2']\n",
      " ['71' '0' '0' '112' '149' '0' '1' '125' '0' '1.6' '1' '0' '2']\n",
      " ['71' '0' '0' '112' '149' '0' '1' '125' '0' '1.6' '1' '0' '2']\n",
      " ['71' '0' '0' '112' '149' '0' '1' '125' '0' '1.6' '1' '0' '2']\n",
      " ['71' '0' '0' '112' '149' '0' '1' '125' '0' '1.6' '1' '0' '2']\n",
      " ['71' '0' '0' '112' '149' '0' '1' '125' '0' '1.6' '1' '0' '2']\n",
      " ['71' '0' '0' '112' '149' '0' '1' '125' '0' '1.6' '1' '0' '2']\n",
      " ['71' '0' '0' '112' '149' '0' '1' '125' '0' '1.6' '1' '0' '2']\n",
      " ['71' '0' '0' '112' '149' '0' '1' '125' '0' '1.6' '1' '0' '2']]\n",
      "[[0.9250691]]\n",
      "[[ True]]\n"
     ]
    }
   ],
   "source": [
    "B = Button(top, text =\"Predict\", command = predict1)\n",
    "B.pack(pady=10)\n",
    "top.mainloop()"
   ]
  },
  {
   "cell_type": "code",
   "execution_count": null,
   "metadata": {},
   "outputs": [],
   "source": []
  }
 ],
 "metadata": {
  "kernelspec": {
   "display_name": "Python 3",
   "language": "python",
   "name": "python3"
  },
  "language_info": {
   "codemirror_mode": {
    "name": "ipython",
    "version": 3
   },
   "file_extension": ".py",
   "mimetype": "text/x-python",
   "name": "python",
   "nbconvert_exporter": "python",
   "pygments_lexer": "ipython3",
   "version": "3.6.5"
  }
 },
 "nbformat": 4,
 "nbformat_minor": 2
}
