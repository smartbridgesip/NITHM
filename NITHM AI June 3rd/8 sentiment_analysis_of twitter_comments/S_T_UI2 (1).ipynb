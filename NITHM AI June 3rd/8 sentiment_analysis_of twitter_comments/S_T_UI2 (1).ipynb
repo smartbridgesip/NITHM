{
 "cells": [
  {
   "cell_type": "code",
   "execution_count": 1,
   "metadata": {},
   "outputs": [
    {
     "name": "stderr",
     "output_type": "stream",
     "text": [
      "Using TensorFlow backend.\n"
     ]
    }
   ],
   "source": [
    "from tkinter import *\n",
    "from keras.models import load_model\n",
    "import string"
   ]
  },
  {
   "cell_type": "code",
   "execution_count": 8,
   "metadata": {},
   "outputs": [],
   "source": [
    "from keras.models import load_model\n",
    "model = load_model('jet.h5')"
   ]
  },
  {
   "cell_type": "code",
   "execution_count": 9,
   "metadata": {},
   "outputs": [
    {
     "data": {
      "text/plain": [
       "''"
      ]
     },
     "execution_count": 9,
     "metadata": {},
     "output_type": "execute_result"
    }
   ],
   "source": [
    "top = Tk()\n",
    "top.geometry(\"550x300+300+150\")\n",
    "top.resizable(width=True, height=True)\n"
   ]
  },
  {
   "cell_type": "code",
   "execution_count": 10,
   "metadata": {},
   "outputs": [],
   "source": [
    "from keras.preprocessing.text import Tokenizer\n",
    "max_words=1000\n",
    "tokenize = Tokenizer(num_words=max_words)"
   ]
  },
  {
   "cell_type": "code",
   "execution_count": 11,
   "metadata": {},
   "outputs": [],
   "source": [
    "L1 = Label(top, text=\"Enter Text For Prediction\")\n",
    "L1.pack()\n",
    "E1 = Entry(top, bd =15)\n",
    "E1.pack()\n",
    "#new=tokenize.texts_to_matrix(['i an not using twitter'])"
   ]
  },
  {
   "cell_type": "code",
   "execution_count": 12,
   "metadata": {},
   "outputs": [],
   "source": [
    "from keras.preprocessing.text import Tokenizer\n",
    "max_words = 1000\n",
    "tokenize = Tokenizer(num_words=max_words)\n",
    "def predict1():\n",
    "    print(\"Prediction on progress..\")\n",
    "    entered_input=E1.get()\n",
    "    \n",
    "    print(\"Entered Input\",entered_input)\n",
    "    new=tokenize.texts_to_matrix([entered_input])\n",
    "    \n",
    "    print(entered_input) \n",
    "    \n",
    "    n=model.predict(new)[0]\n",
    "    n=list(n)\n",
    "    c=n.index(max(n))\n",
    "   \n",
    "    print(c)\n",
    "    if(c == 1):\n",
    "        text=\"The input is a POSITIVE sentiment\"\n",
    "    else:\n",
    "        text=\"The input is a negative  sentiment\"\n",
    "    L2 = Label(top, text=\"Prediction: \"+text)\n",
    "    L2.pack()  "
   ]
  },
  {
   "cell_type": "code",
   "execution_count": 13,
   "metadata": {},
   "outputs": [
    {
     "name": "stdout",
     "output_type": "stream",
     "text": [
      "Prediction on progress..\n",
      "Entered Input im not happpy to use twiterrrrr.....!\n",
      "im not happpy to use twiterrrrr.....!\n",
      "1\n"
     ]
    }
   ],
   "source": [
    "B= Button(top,text=\"Predict\", command = predict1)\n",
    "B.pack(pady=10)\n",
    "top.configure(background='#f73331')\n",
    "top.mainloop()\n"
   ]
  },
  {
   "cell_type": "raw",
   "metadata": {},
   "source": []
  },
  {
   "cell_type": "code",
   "execution_count": null,
   "metadata": {},
   "outputs": [],
   "source": []
  }
 ],
 "metadata": {
  "kernelspec": {
   "display_name": "Python 3",
   "language": "python",
   "name": "python3"
  },
  "language_info": {
   "codemirror_mode": {
    "name": "ipython",
    "version": 3
   },
   "file_extension": ".py",
   "mimetype": "text/x-python",
   "name": "python",
   "nbconvert_exporter": "python",
   "pygments_lexer": "ipython3",
   "version": "3.7.3"
  }
 },
 "nbformat": 4,
 "nbformat_minor": 2
}
