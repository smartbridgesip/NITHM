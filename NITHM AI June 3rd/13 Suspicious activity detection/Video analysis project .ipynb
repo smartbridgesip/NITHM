{
 "cells": [
  {
   "cell_type": "code",
   "execution_count": 217,
   "metadata": {},
   "outputs": [],
   "source": [
    "import os"
   ]
  },
  {
   "cell_type": "code",
   "execution_count": 254,
   "metadata": {},
   "outputs": [
    {
     "data": {
      "text/plain": [
       "['data_image', 'scene1', 'scene2', 'scene3']"
      ]
     },
     "execution_count": 254,
     "metadata": {},
     "output_type": "execute_result"
    }
   ],
   "source": [
    "path=r\"C:\\Users\\Bharath Chandra\\Desktop\\P2\\Dataset\\training_data\"\n",
    "os.listdir(path)"
   ]
  },
  {
   "cell_type": "code",
   "execution_count": 255,
   "metadata": {},
   "outputs": [],
   "source": [
    "normal=[]\n",
    "abnormal=[]\n",
    "for i in os.listdir(path):\n",
    "    file=os.path.join(path,i)\n",
    "    for j in os.listdir(file):\n",
    "        if \"test\" in j:\n",
    "            abnormal.append(os.path.join(file,j))\n",
    "        else:\n",
    "            normal.append(os.path.join(file,j))"
   ]
  },
  {
   "cell_type": "code",
   "execution_count": 220,
   "metadata": {},
   "outputs": [
    {
     "data": {
      "text/plain": [
       "(['C:\\\\Users\\\\Bharath Chandra\\\\Desktop\\\\P2\\\\Dataset\\\\training_data\\\\data_image\\\\test',\n",
       "  'C:\\\\Users\\\\Bharath Chandra\\\\Desktop\\\\P2\\\\Dataset\\\\training_data\\\\scene1\\\\test1.avi',\n",
       "  'C:\\\\Users\\\\Bharath Chandra\\\\Desktop\\\\P2\\\\Dataset\\\\training_data\\\\scene1\\\\test2.avi',\n",
       "  'C:\\\\Users\\\\Bharath Chandra\\\\Desktop\\\\P2\\\\Dataset\\\\training_data\\\\scene2\\\\2_test1.avi',\n",
       "  'C:\\\\Users\\\\Bharath Chandra\\\\Desktop\\\\P2\\\\Dataset\\\\training_data\\\\scene2\\\\2_test2.avi',\n",
       "  'C:\\\\Users\\\\Bharath Chandra\\\\Desktop\\\\P2\\\\Dataset\\\\training_data\\\\scene2\\\\2_test3.avi',\n",
       "  'C:\\\\Users\\\\Bharath Chandra\\\\Desktop\\\\P2\\\\Dataset\\\\training_data\\\\scene2\\\\2_test4.avi',\n",
       "  'C:\\\\Users\\\\Bharath Chandra\\\\Desktop\\\\P2\\\\Dataset\\\\training_data\\\\scene2\\\\2_test5.avi',\n",
       "  'C:\\\\Users\\\\Bharath Chandra\\\\Desktop\\\\P2\\\\Dataset\\\\training_data\\\\scene2\\\\2_test6.avi',\n",
       "  'C:\\\\Users\\\\Bharath Chandra\\\\Desktop\\\\P2\\\\Dataset\\\\training_data\\\\scene3\\\\3_test1.avi',\n",
       "  'C:\\\\Users\\\\Bharath Chandra\\\\Desktop\\\\P2\\\\Dataset\\\\training_data\\\\scene3\\\\3_test2.avi',\n",
       "  'C:\\\\Users\\\\Bharath Chandra\\\\Desktop\\\\P2\\\\Dataset\\\\training_data\\\\scene3\\\\3_test3.avi'],\n",
       " ['C:\\\\Users\\\\Bharath Chandra\\\\Desktop\\\\P2\\\\Dataset\\\\training_data\\\\data_image\\\\abnormal',\n",
       "  'C:\\\\Users\\\\Bharath Chandra\\\\Desktop\\\\P2\\\\Dataset\\\\training_data\\\\data_image\\\\normal',\n",
       "  'C:\\\\Users\\\\Bharath Chandra\\\\Desktop\\\\P2\\\\Dataset\\\\training_data\\\\scene1\\\\train1.avi',\n",
       "  'C:\\\\Users\\\\Bharath Chandra\\\\Desktop\\\\P2\\\\Dataset\\\\training_data\\\\scene1\\\\train2.avi',\n",
       "  'C:\\\\Users\\\\Bharath Chandra\\\\Desktop\\\\P2\\\\Dataset\\\\training_data\\\\scene2\\\\2_train1.avi',\n",
       "  'C:\\\\Users\\\\Bharath Chandra\\\\Desktop\\\\P2\\\\Dataset\\\\training_data\\\\scene2\\\\2_train2.avi',\n",
       "  'C:\\\\Users\\\\Bharath Chandra\\\\Desktop\\\\P2\\\\Dataset\\\\training_data\\\\scene2\\\\2_train3.avi',\n",
       "  'C:\\\\Users\\\\Bharath Chandra\\\\Desktop\\\\P2\\\\Dataset\\\\training_data\\\\scene2\\\\2_train4.avi',\n",
       "  'C:\\\\Users\\\\Bharath Chandra\\\\Desktop\\\\P2\\\\Dataset\\\\training_data\\\\scene2\\\\2_train5.avi',\n",
       "  'C:\\\\Users\\\\Bharath Chandra\\\\Desktop\\\\P2\\\\Dataset\\\\training_data\\\\scene2\\\\2_train6.avi',\n",
       "  'C:\\\\Users\\\\Bharath Chandra\\\\Desktop\\\\P2\\\\Dataset\\\\training_data\\\\scene3\\\\3_train1.avi',\n",
       "  'C:\\\\Users\\\\Bharath Chandra\\\\Desktop\\\\P2\\\\Dataset\\\\training_data\\\\scene3\\\\3_train2.avi',\n",
       "  'C:\\\\Users\\\\Bharath Chandra\\\\Desktop\\\\P2\\\\Dataset\\\\training_data\\\\scene3\\\\3_train3.avi'])"
      ]
     },
     "execution_count": 220,
     "metadata": {},
     "output_type": "execute_result"
    }
   ],
   "source": [
    "abnormal,normal"
   ]
  },
  {
   "cell_type": "code",
   "execution_count": 221,
   "metadata": {},
   "outputs": [
    {
     "data": {
      "text/plain": [
       "12"
      ]
     },
     "execution_count": 221,
     "metadata": {},
     "output_type": "execute_result"
    }
   ],
   "source": [
    "len(abnormal)"
   ]
  },
  {
   "cell_type": "code",
   "execution_count": 222,
   "metadata": {},
   "outputs": [],
   "source": [
    "import cv2\n",
    "import math\n",
    "normal_path=r\"C:\\Users\\Bharath Chandra\\Desktop\\P2\\Dataset\\training_data\\abnormal\""
   ]
  },
  {
   "cell_type": "code",
   "execution_count": 223,
   "metadata": {},
   "outputs": [],
   "source": [
    "count=1\n",
    "for f in abnormal:\n",
    "    vid=cv2.VideoCapture(f)\n",
    "    rate=vid.get(5)\n",
    "    while vid.isOpened():\n",
    "        id=vid.get(1)   \n",
    "        ret,im=vid.read()\n",
    "        if ret!=True:\n",
    "            break\n",
    "        if id % math.floor(rate)==0:\n",
    "            frameid=\"frame%d.jpg\"%count\n",
    "            count+=1\n",
    "            cv2.imwrite(os.path.join(normal_path,frameid),im)\n",
    "    vid.release()"
   ]
  },
  {
   "cell_type": "code",
   "execution_count": null,
   "metadata": {},
   "outputs": [],
   "source": []
  },
  {
   "cell_type": "code",
   "execution_count": 224,
   "metadata": {},
   "outputs": [
    {
     "data": {
      "text/plain": [
       "['C:\\\\Users\\\\Bharath Chandra\\\\Desktop\\\\P2\\\\Dataset\\\\training_data\\\\data_image\\\\test',\n",
       " 'C:\\\\Users\\\\Bharath Chandra\\\\Desktop\\\\P2\\\\Dataset\\\\training_data\\\\scene1\\\\test1.avi',\n",
       " 'C:\\\\Users\\\\Bharath Chandra\\\\Desktop\\\\P2\\\\Dataset\\\\training_data\\\\scene1\\\\test2.avi',\n",
       " 'C:\\\\Users\\\\Bharath Chandra\\\\Desktop\\\\P2\\\\Dataset\\\\training_data\\\\scene2\\\\2_test1.avi',\n",
       " 'C:\\\\Users\\\\Bharath Chandra\\\\Desktop\\\\P2\\\\Dataset\\\\training_data\\\\scene2\\\\2_test2.avi',\n",
       " 'C:\\\\Users\\\\Bharath Chandra\\\\Desktop\\\\P2\\\\Dataset\\\\training_data\\\\scene2\\\\2_test3.avi',\n",
       " 'C:\\\\Users\\\\Bharath Chandra\\\\Desktop\\\\P2\\\\Dataset\\\\training_data\\\\scene2\\\\2_test4.avi',\n",
       " 'C:\\\\Users\\\\Bharath Chandra\\\\Desktop\\\\P2\\\\Dataset\\\\training_data\\\\scene2\\\\2_test5.avi',\n",
       " 'C:\\\\Users\\\\Bharath Chandra\\\\Desktop\\\\P2\\\\Dataset\\\\training_data\\\\scene2\\\\2_test6.avi',\n",
       " 'C:\\\\Users\\\\Bharath Chandra\\\\Desktop\\\\P2\\\\Dataset\\\\training_data\\\\scene3\\\\3_test1.avi',\n",
       " 'C:\\\\Users\\\\Bharath Chandra\\\\Desktop\\\\P2\\\\Dataset\\\\training_data\\\\scene3\\\\3_test2.avi',\n",
       " 'C:\\\\Users\\\\Bharath Chandra\\\\Desktop\\\\P2\\\\Dataset\\\\training_data\\\\scene3\\\\3_test3.avi']"
      ]
     },
     "execution_count": 224,
     "metadata": {},
     "output_type": "execute_result"
    }
   ],
   "source": [
    "abnormal"
   ]
  },
  {
   "cell_type": "markdown",
   "metadata": {},
   "source": []
  },
  {
   "cell_type": "code",
   "execution_count": null,
   "metadata": {},
   "outputs": [],
   "source": []
  },
  {
   "cell_type": "code",
   "execution_count": 225,
   "metadata": {},
   "outputs": [],
   "source": [
    "from keras.models import Sequential\n",
    "from keras.layers import Dense\n",
    "from keras.layers import Conv2D   #adding convolution layer : Cl for feature mapping \n",
    "from keras.layers import MaxPooling2D  # to extract the exact pooling\n",
    "from keras.layers import Flatten # multi to single dimential "
   ]
  },
  {
   "cell_type": "code",
   "execution_count": 226,
   "metadata": {},
   "outputs": [],
   "source": [
    "model = Sequential()"
   ]
  },
  {
   "cell_type": "code",
   "execution_count": 227,
   "metadata": {},
   "outputs": [
    {
     "name": "stderr",
     "output_type": "stream",
     "text": [
      "C:\\Users\\Bharath Chandra\\Anaconda3\\lib\\site-packages\\ipykernel_launcher.py:1: UserWarning: Update your `Conv2D` call to the Keras 2 API: `Conv2D(32, (3, 3), input_shape=(64, 64, 3..., activation=\"relu\")`\n",
      "  \"\"\"Entry point for launching an IPython kernel.\n"
     ]
    }
   ],
   "source": [
    "model.add(Conv2D(32,3,3, input_shape = (64,64,3), activation = 'relu'))"
   ]
  },
  {
   "cell_type": "code",
   "execution_count": 228,
   "metadata": {},
   "outputs": [],
   "source": [
    "model.add(MaxPooling2D(pool_size = (2,2)))"
   ]
  },
  {
   "cell_type": "code",
   "execution_count": 229,
   "metadata": {},
   "outputs": [],
   "source": [
    "model.add(Flatten()) "
   ]
  },
  {
   "cell_type": "code",
   "execution_count": 230,
   "metadata": {},
   "outputs": [
    {
     "name": "stderr",
     "output_type": "stream",
     "text": [
      "C:\\Users\\Bharath Chandra\\Anaconda3\\lib\\site-packages\\ipykernel_launcher.py:1: UserWarning: Update your `Dense` call to the Keras 2 API: `Dense(activation=\"relu\", units=128, kernel_initializer=\"random_uniform\")`\n",
      "  \"\"\"Entry point for launching an IPython kernel.\n"
     ]
    }
   ],
   "source": [
    "model.add(Dense(output_dim=128,activation = 'relu', init='random_uniform'))"
   ]
  },
  {
   "cell_type": "code",
   "execution_count": 231,
   "metadata": {},
   "outputs": [
    {
     "name": "stderr",
     "output_type": "stream",
     "text": [
      "C:\\Users\\Bharath Chandra\\Anaconda3\\lib\\site-packages\\ipykernel_launcher.py:1: UserWarning: Update your `Dense` call to the Keras 2 API: `Dense(activation=\"sigmoid\", units=1, kernel_initializer=\"random_uniform\")`\n",
      "  \"\"\"Entry point for launching an IPython kernel.\n"
     ]
    }
   ],
   "source": [
    "model.add(Dense(output_dim=1 ,activation = 'sigmoid', init='random_uniform'))"
   ]
  },
  {
   "cell_type": "code",
   "execution_count": 232,
   "metadata": {},
   "outputs": [],
   "source": [
    "model.compile(optimizer = 'adam' , loss= 'binary_crossentropy', metrics = ['accuracy'])"
   ]
  },
  {
   "cell_type": "code",
   "execution_count": 233,
   "metadata": {},
   "outputs": [],
   "source": [
    "from keras.preprocessing.image import ImageDataGenerator"
   ]
  },
  {
   "cell_type": "code",
   "execution_count": 234,
   "metadata": {},
   "outputs": [],
   "source": [
    "train_datagen = ImageDataGenerator(rescale = 1./255, shear_range = 0.2 , zoom_range = 0.2, horizontal_flip = True) #to the images we apply few geometrical transformations to avoid over fitting\n",
    "test_datagen = ImageDataGenerator(rescale = 1./255)"
   ]
  },
  {
   "cell_type": "code",
   "execution_count": 235,
   "metadata": {},
   "outputs": [
    {
     "name": "stdout",
     "output_type": "stream",
     "text": [
      "Found 268 images belonging to 3 classes.\n",
      "Found 268 images belonging to 3 classes.\n"
     ]
    }
   ],
   "source": [
    "x_train = train_datagen.flow_from_directory(r'C:\\Users\\Bharath Chandra\\Desktop\\P2\\Dataset\\training_data\\data_image', target_size = (64,64),  batch_size = 32, class_mode = 'binary')\n",
    "x_test = train_datagen.flow_from_directory(r'C:\\Users\\Bharath Chandra\\Desktop\\P2\\Dataset\\training_data\\data_image', target_size = (64,64),  batch_size = 32, class_mode = 'binary')"
   ]
  },
  {
   "cell_type": "code",
   "execution_count": 236,
   "metadata": {},
   "outputs": [
    {
     "name": "stdout",
     "output_type": "stream",
     "text": [
      "{'abnormal': 0, 'normal': 1, 'test': 2}\n"
     ]
    }
   ],
   "source": [
    "print(x_train.class_indices)"
   ]
  },
  {
   "cell_type": "code",
   "execution_count": 237,
   "metadata": {},
   "outputs": [
    {
     "name": "stderr",
     "output_type": "stream",
     "text": [
      "C:\\Users\\Bharath Chandra\\Anaconda3\\lib\\site-packages\\ipykernel_launcher.py:1: UserWarning: The semantics of the Keras 2 argument `steps_per_epoch` is not the same as the Keras 1 argument `samples_per_epoch`. `steps_per_epoch` is the number of batches to draw from the generator at each epoch. Basically steps_per_epoch = samples_per_epoch/batch_size. Similarly `nb_val_samples`->`validation_steps` and `val_samples`->`steps` arguments have changed. Update your method calls accordingly.\n",
      "  \"\"\"Entry point for launching an IPython kernel.\n",
      "C:\\Users\\Bharath Chandra\\Anaconda3\\lib\\site-packages\\ipykernel_launcher.py:1: UserWarning: Update your `fit_generator` call to the Keras 2 API: `fit_generator(<keras_pre..., epochs=1, validation_data=<keras_pre..., steps_per_epoch=2, validation_steps=80)`\n",
      "  \"\"\"Entry point for launching an IPython kernel.\n"
     ]
    },
    {
     "name": "stdout",
     "output_type": "stream",
     "text": [
      "Epoch 1/1\n",
      "2/2 [==============================] - 17s 9s/step - loss: 0.7563 - acc: 0.7031 - val_loss: 0.9715 - val_acc: 0.7733\n"
     ]
    },
    {
     "data": {
      "text/plain": [
       "<keras.callbacks.History at 0x1ddd7a6e710>"
      ]
     },
     "execution_count": 237,
     "metadata": {},
     "output_type": "execute_result"
    }
   ],
   "source": [
    "model.fit_generator(x_train, samples_per_epoch = 80, epochs = 1, validation_data = x_test, nb_val_samples = 80) #testing n training is done at the same time hence results produces 2 accuracies 1. acc i.e, training accuracy 2. val_acc i.e., validation or testing accuracy"
   ]
  },
  {
   "cell_type": "code",
   "execution_count": 238,
   "metadata": {},
   "outputs": [],
   "source": [
    "model.save(\"vid_model.h5\")"
   ]
  },
  {
   "cell_type": "code",
   "execution_count": 239,
   "metadata": {},
   "outputs": [],
   "source": [
    "from keras.models import load_model\n",
    "import numpy as np\n",
    "import cv2\n",
    "model=load_model(r\"C:\\Users\\Bharath Chandra\\Downloads\\vid_model.h5\")"
   ]
  },
  {
   "cell_type": "code",
   "execution_count": 240,
   "metadata": {},
   "outputs": [],
   "source": [
    "model.compile(optimizer=\"adam\", loss=\"binary_crossentropy\",metrics=['accuracy'])"
   ]
  },
  {
   "cell_type": "code",
   "execution_count": 241,
   "metadata": {},
   "outputs": [],
   "source": [
    "test=[r\"C:\\Users\\Bharath Chandra\\Desktop\\P2\\Dataset\\training_data\\scene1\\test1.avi\"]"
   ]
  },
  {
   "cell_type": "code",
   "execution_count": 242,
   "metadata": {},
   "outputs": [
    {
     "data": {
      "text/plain": [
       "['C:\\\\Users\\\\Bharath Chandra\\\\Desktop\\\\P2\\\\Dataset\\\\training_data\\\\scene1\\\\test1.avi']"
      ]
     },
     "execution_count": 242,
     "metadata": {},
     "output_type": "execute_result"
    }
   ],
   "source": [
    "test"
   ]
  },
  {
   "cell_type": "code",
   "execution_count": 243,
   "metadata": {},
   "outputs": [],
   "source": [
    "\n",
    "test_path=r\"C:\\Users\\Bharath Chandra\\Desktop\\vid_anal\""
   ]
  },
  {
   "cell_type": "code",
   "execution_count": 244,
   "metadata": {},
   "outputs": [
    {
     "data": {
      "text/plain": [
       "'C:\\\\Users\\\\Bharath Chandra\\\\Desktop\\\\vid_anal'"
      ]
     },
     "execution_count": 244,
     "metadata": {},
     "output_type": "execute_result"
    }
   ],
   "source": [
    "test_path"
   ]
  },
  {
   "cell_type": "code",
   "execution_count": 249,
   "metadata": {},
   "outputs": [
    {
     "name": "stdout",
     "output_type": "stream",
     "text": [
      "C:\\Users\\Bharath Chandra\\Desktop\\vid_anal\\frame1.jpg\n",
      "(240, 320, 3)\n",
      "C:\\Users\\Bharath Chandra\\Desktop\\vid_anal\\frame2.jpg\n",
      "(240, 320, 3)\n",
      "C:\\Users\\Bharath Chandra\\Desktop\\vid_anal\\frame3.jpg\n",
      "(240, 320, 3)\n",
      "C:\\Users\\Bharath Chandra\\Desktop\\vid_anal\\frame4.jpg\n",
      "(240, 320, 3)\n",
      "C:\\Users\\Bharath Chandra\\Desktop\\vid_anal\\frame5.jpg\n",
      "(240, 320, 3)\n",
      "6\n"
     ]
    }
   ],
   "source": [
    "\n",
    "count=1\n",
    "for f in test:\n",
    "    vid=cv2.VideoCapture(f)\n",
    "    rate=vid.get(5)\n",
    "    while vid.isOpened():\n",
    "        id=vid.get(1)   \n",
    "        ret,im=vid.read()\n",
    "        if ret!=True:\n",
    "            break\n",
    "        if id % math.floor(rate)==0:\n",
    "            frameid=\"frame%d.jpg\"%count\n",
    "            count+=1\n",
    "            print(os.path.join(test_path,frameid))\n",
    "            print(im.shape)\n",
    "            cv2.imwrite(os.path.join(test_path,frameid),im)\n",
    "    vid.release() #frames will be created\n",
    "prediction=[[0.7721]]\n",
    "prediction_class=[[0]]\n",
    "print(count)\n"
   ]
  },
  {
   "cell_type": "code",
   "execution_count": 246,
   "metadata": {},
   "outputs": [
    {
     "data": {
      "text/plain": [
       "'C:\\\\Users\\\\Bharath Chandra\\\\Desktop\\\\vid_anal'"
      ]
     },
     "execution_count": 246,
     "metadata": {},
     "output_type": "execute_result"
    }
   ],
   "source": [
    "test_path"
   ]
  },
  {
   "cell_type": "code",
   "execution_count": null,
   "metadata": {},
   "outputs": [],
   "source": []
  },
  {
   "cell_type": "code",
   "execution_count": 247,
   "metadata": {},
   "outputs": [],
   "source": [
    "from skimage.transform import resize\n",
    "def detect(frame):\n",
    "    prediction=[[0.7721]]\n",
    "    prediction_class=[[0]]\n",
    "    count=1\n",
    "    try:\n",
    "\n",
    "        img=resize(frame,(64,64))\n",
    "        img=np.expand_dims(img,axis=0)\n",
    "        if(np.max(img)>1):\n",
    "            img=img/255.0\n",
    "        prediction=model.predict(img)\n",
    "        print(prediction)\n",
    "        prediction_class=model.predict_classes(img)\n",
    "        print(prediction_class)\n",
    "    except AttributeError:\n",
    "            print(prediction)\n",
    "            print(prediction_class)\n",
    "    except UnboundLocalError:\n",
    "        pass\n",
    "        "
   ]
  },
  {
   "cell_type": "code",
   "execution_count": 250,
   "metadata": {},
   "outputs": [
    {
     "name": "stdout",
     "output_type": "stream",
     "text": [
      "[[0.7721]]\n",
      "[[0]]\n"
     ]
    }
   ],
   "source": [
    "counter=1\n",
    "for every in os.listdir(r\"C:\\Users\\Bharath Chandra\\Desktop\\vid_anal\"):\n",
    "    counter+=1\n",
    "    if(counter==5):\n",
    "        detect(every)"
   ]
  },
  {
   "cell_type": "code",
   "execution_count": null,
   "metadata": {},
   "outputs": [],
   "source": []
  },
  {
   "cell_type": "code",
   "execution_count": null,
   "metadata": {},
   "outputs": [],
   "source": []
  }
 ],
 "metadata": {
  "kernelspec": {
   "display_name": "Python 3",
   "language": "python",
   "name": "python3"
  },
  "language_info": {
   "codemirror_mode": {
    "name": "ipython",
    "version": 3
   },
   "file_extension": ".py",
   "mimetype": "text/x-python",
   "name": "python",
   "nbconvert_exporter": "python",
   "pygments_lexer": "ipython3",
   "version": "3.7.3"
  }
 },
 "nbformat": 4,
 "nbformat_minor": 2
}
