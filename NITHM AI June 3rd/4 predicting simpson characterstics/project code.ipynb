{
 "cells": [
  {
   "cell_type": "code",
   "execution_count": 157,
   "metadata": {},
   "outputs": [],
   "source": [
    "import numpy as np\n",
    "import pandas as pd\n",
    "import PIL.Image\n",
    "from keras.models import Sequential\n",
    "from keras.layers import Conv2D, MaxPooling2D, Flatten, Dense\n",
    "from keras.preprocessing.image import ImageDataGenerator\n",
    "from keras.preprocessing import image\n",
    "from keras.models import model_from_json\n",
    "import matplotlib.pyplot as plt\n",
    "import matplotlib.image as mpimg"
   ]
  },
  {
   "cell_type": "code",
   "execution_count": 158,
   "metadata": {},
   "outputs": [],
   "source": [
    "model = Sequential() \n",
    "model.add(Conv2D(32, (3, 3), input_shape = (64, 64, 3), activation = 'relu')) #3 is for type of image\n",
    "model.add(MaxPooling2D(pool_size = (2, 2))) \n",
    "\n",
    "model.add(Conv2D(64, (3, 3), activation = 'relu')) \n",
    "model.add(MaxPooling2D(pool_size = (2, 2)))\n",
    "\n",
    "model.add(Conv2D(128, (3, 3), activation = 'relu')) \n",
    "model.add(MaxPooling2D(pool_size = (2, 2)))\n",
    "\n",
    "model.add(Flatten())"
   ]
  },
  {
   "cell_type": "code",
   "execution_count": 159,
   "metadata": {},
   "outputs": [],
   "source": [
    "model.add(Dense(units = 64, activation = 'relu')) \n",
    "model.add(Dense(units = 10, activation = 'softmax')) \n",
    "\n",
    "model.compile(optimizer = 'adam', loss = 'categorical_crossentropy', metrics = ['accuracy'])"
   ]
  },
  {
   "cell_type": "code",
   "execution_count": 160,
   "metadata": {},
   "outputs": [],
   "source": [
    "data_train = ImageDataGenerator(rescale = 1./255, rotation_range = 7, horizontal_flip = True,shear_range=0.2,height_shift_range=0.07,zoom_range=0.2) \n",
    "data_test = ImageDataGenerator(rescale = 1./255)"
   ]
  },
  {
   "cell_type": "code",
   "execution_count": 161,
   "metadata": {},
   "outputs": [
    {
     "name": "stdout",
     "output_type": "stream",
     "text": [
      "Found 8736 images belonging to 10 classes.\n",
      "Found 677 images belonging to 10 classes.\n"
     ]
    }
   ],
   "source": [
    "base_train = data_train.flow_from_directory(r'C:\\Users\\pmrud\\Desktop\\train',\n",
    "                                            target_size = (64, 64),\n",
    "                                            batch_size = 30,\n",
    "                                            class_mode = 'categorical') \n",
    "\n",
    "base_test = data_test.flow_from_directory(r'C:\\Users\\pmrud\\Desktop\\test',\n",
    "                                          target_size = (64, 64),\n",
    "                                          batch_size = 30,\n",
    "                                          class_mode = 'categorical')"
   ]
  },
  {
   "cell_type": "code",
   "execution_count": 162,
   "metadata": {},
   "outputs": [
    {
     "name": "stdout",
     "output_type": "stream",
     "text": [
      "Epoch 1/13\n",
      "30/30 [==============================] - 10s 350ms/step - loss: 2.0802 - acc: 0.2211 - val_loss: 2.2269 - val_acc: 0.1000\n",
      "Epoch 2/13\n",
      "30/30 [==============================] - 9s 309ms/step - loss: 1.8047 - acc: 0.3344 - val_loss: 2.2847 - val_acc: 0.1444\n",
      "Epoch 3/13\n",
      "30/30 [==============================] - 10s 331ms/step - loss: 1.6609 - acc: 0.4167 - val_loss: 2.1603 - val_acc: 0.1667\n",
      "Epoch 4/13\n",
      "30/30 [==============================] - 11s 360ms/step - loss: 1.5389 - acc: 0.4444 - val_loss: 1.7817 - val_acc: 0.4333\n",
      "Epoch 5/13\n",
      "30/30 [==============================] - 11s 377ms/step - loss: 1.3782 - acc: 0.5411 - val_loss: 1.7421 - val_acc: 0.3556\n",
      "Epoch 6/13\n",
      "30/30 [==============================] - 12s 399ms/step - loss: 1.4766 - acc: 0.5089 - val_loss: 1.7048 - val_acc: 0.3222\n",
      "Epoch 7/13\n",
      "30/30 [==============================] - 11s 382ms/step - loss: 1.3117 - acc: 0.5500 - val_loss: 2.0452 - val_acc: 0.3111\n",
      "Epoch 8/13\n",
      "30/30 [==============================] - 11s 365ms/step - loss: 1.3804 - acc: 0.5389 - val_loss: 1.7195 - val_acc: 0.2468\n",
      "Epoch 9/13\n",
      "30/30 [==============================] - 11s 381ms/step - loss: 1.3114 - acc: 0.5656 - val_loss: 1.6087 - val_acc: 0.3222\n",
      "Epoch 10/13\n",
      "30/30 [==============================] - 10s 318ms/step - loss: 1.2141 - acc: 0.5898 - val_loss: 1.7196 - val_acc: 0.2889\n",
      "Epoch 11/13\n",
      "30/30 [==============================] - 10s 340ms/step - loss: 1.2273 - acc: 0.5644 - val_loss: 1.6942 - val_acc: 0.4333\n",
      "Epoch 12/13\n",
      "30/30 [==============================] - 10s 328ms/step - loss: 1.2258 - acc: 0.6067 - val_loss: 1.4935 - val_acc: 0.4111\n",
      "Epoch 13/13\n",
      "30/30 [==============================] - 10s 337ms/step - loss: 1.1929 - acc: 0.5989 - val_loss: 1.5509 - val_acc: 0.4444\n"
     ]
    },
    {
     "data": {
      "text/plain": [
       "<keras.callbacks.History at 0x1edb3fb7a90>"
      ]
     },
     "execution_count": 162,
     "metadata": {},
     "output_type": "execute_result"
    }
   ],
   "source": [
    "model.fit_generator(base_train, steps_per_epoch = 30,epochs = 13,validation_data = base_test,validation_steps = 3)"
   ]
  },
  {
   "cell_type": "code",
   "execution_count": 163,
   "metadata": {},
   "outputs": [
    {
     "name": "stdout",
     "output_type": "stream",
     "text": [
      "[0. 0. 0. 0. 0. 1. 0. 0. 0. 0.]\n"
     ]
    }
   ],
   "source": [
    "result = []\n",
    "\n",
    "test_image = image.load_img(r\"C:\\Users\\pmrud\\Desktop\\test\\homer_simpson\\pic_0016.jpg\", target_size=(64, 64))\n",
    "test_image = image.img_to_array(test_image)\n",
    "test_image = np.expand_dims(test_image, axis=0)\n",
    "\n",
    "pred = model.predict_on_batch(test_image)\n",
    "result.append(pred)\n",
    "\n",
    "result = np.asarray(result)\n",
    "imprime = np.array(result[0][0])\n",
    "print(imprime)"
   ]
  },
  {
   "cell_type": "code",
   "execution_count": 164,
   "metadata": {},
   "outputs": [],
   "source": [
    "model_json=model.to_json()"
   ]
  },
  {
   "cell_type": "code",
   "execution_count": 165,
   "metadata": {},
   "outputs": [],
   "source": [
    "with open('model_json.json', 'w') as json_file:\n",
    "    json_file.write(model_json)"
   ]
  },
  {
   "cell_type": "code",
   "execution_count": 166,
   "metadata": {},
   "outputs": [],
   "source": [
    "model.save_weights('model_simpsons.h5')"
   ]
  },
  {
   "cell_type": "code",
   "execution_count": 167,
   "metadata": {},
   "outputs": [],
   "source": [
    "ar= open('model_json.json', 'r')\n",
    "struct = ar.read()\n",
    "ar.close()"
   ]
  },
  {
   "cell_type": "code",
   "execution_count": 168,
   "metadata": {},
   "outputs": [],
   "source": [
    "model = model_from_json(struct)\n",
    "model.load_weights('model_simpsons.h5')\n",
    "result = []"
   ]
  },
  {
   "cell_type": "code",
   "execution_count": 169,
   "metadata": {},
   "outputs": [
    {
     "data": {
      "text/html": [
       "<div>\n",
       "<style scoped>\n",
       "    .dataframe tbody tr th:only-of-type {\n",
       "        vertical-align: middle;\n",
       "    }\n",
       "\n",
       "    .dataframe tbody tr th {\n",
       "        vertical-align: top;\n",
       "    }\n",
       "\n",
       "    .dataframe thead th {\n",
       "        text-align: right;\n",
       "    }\n",
       "</style>\n",
       "<table border=\"1\" class=\"dataframe\">\n",
       "  <thead>\n",
       "    <tr style=\"text-align: right;\">\n",
       "      <th></th>\n",
       "      <th>name</th>\n",
       "    </tr>\n",
       "  </thead>\n",
       "  <tbody>\n",
       "    <tr>\n",
       "      <th>0</th>\n",
       "      <td>Abraham Grampa Simpson</td>\n",
       "    </tr>\n",
       "    <tr>\n",
       "      <th>1</th>\n",
       "      <td>Agnes Skinner</td>\n",
       "    </tr>\n",
       "    <tr>\n",
       "      <th>2</th>\n",
       "      <td>Apu Nahasapeemapetilon</td>\n",
       "    </tr>\n",
       "    <tr>\n",
       "      <th>3</th>\n",
       "      <td>Barney Gumble</td>\n",
       "    </tr>\n",
       "    <tr>\n",
       "      <th>4</th>\n",
       "      <td>Bart Simpson</td>\n",
       "    </tr>\n",
       "    <tr>\n",
       "      <th>5</th>\n",
       "      <td>Bumblebee Man</td>\n",
       "    </tr>\n",
       "    <tr>\n",
       "      <th>6</th>\n",
       "      <td>Carl Carlson</td>\n",
       "    </tr>\n",
       "    <tr>\n",
       "      <th>7</th>\n",
       "      <td>Charles Montgomery Burns</td>\n",
       "    </tr>\n",
       "    <tr>\n",
       "      <th>8</th>\n",
       "      <td>Chief Wiggum</td>\n",
       "    </tr>\n",
       "    <tr>\n",
       "      <th>9</th>\n",
       "      <td>Cletus Spuckler</td>\n",
       "    </tr>\n",
       "    <tr>\n",
       "      <th>10</th>\n",
       "      <td>Comic Book Guy</td>\n",
       "    </tr>\n",
       "    <tr>\n",
       "      <th>11</th>\n",
       "      <td>Disco Stu</td>\n",
       "    </tr>\n",
       "    <tr>\n",
       "      <th>12</th>\n",
       "      <td>Edna Krabappel</td>\n",
       "    </tr>\n",
       "    <tr>\n",
       "      <th>13</th>\n",
       "      <td>Fat Tony</td>\n",
       "    </tr>\n",
       "    <tr>\n",
       "      <th>14</th>\n",
       "      <td>Gil</td>\n",
       "    </tr>\n",
       "    <tr>\n",
       "      <th>15</th>\n",
       "      <td>Groundskeeper Willie</td>\n",
       "    </tr>\n",
       "    <tr>\n",
       "      <th>16</th>\n",
       "      <td>Hans Moleman</td>\n",
       "    </tr>\n",
       "    <tr>\n",
       "      <th>17</th>\n",
       "      <td>Helen Lovejoy</td>\n",
       "    </tr>\n",
       "    <tr>\n",
       "      <th>18</th>\n",
       "      <td>Homer Simpson</td>\n",
       "    </tr>\n",
       "    <tr>\n",
       "      <th>19</th>\n",
       "      <td>Jasper Beardly</td>\n",
       "    </tr>\n",
       "    <tr>\n",
       "      <th>20</th>\n",
       "      <td>Jimbo Jones</td>\n",
       "    </tr>\n",
       "    <tr>\n",
       "      <th>21</th>\n",
       "      <td>Kent Brockman</td>\n",
       "    </tr>\n",
       "    <tr>\n",
       "      <th>22</th>\n",
       "      <td>Krusty The Clown</td>\n",
       "    </tr>\n",
       "    <tr>\n",
       "      <th>23</th>\n",
       "      <td>Lenny Leonard</td>\n",
       "    </tr>\n",
       "    <tr>\n",
       "      <th>24</th>\n",
       "      <td>Lionel Hutz</td>\n",
       "    </tr>\n",
       "    <tr>\n",
       "      <th>25</th>\n",
       "      <td>Lisa Simpson</td>\n",
       "    </tr>\n",
       "    <tr>\n",
       "      <th>26</th>\n",
       "      <td>Maggie Simpson</td>\n",
       "    </tr>\n",
       "    <tr>\n",
       "      <th>27</th>\n",
       "      <td>Marge Simpson</td>\n",
       "    </tr>\n",
       "    <tr>\n",
       "      <th>28</th>\n",
       "      <td>Martin Prince</td>\n",
       "    </tr>\n",
       "    <tr>\n",
       "      <th>29</th>\n",
       "      <td>Mayor Quimby</td>\n",
       "    </tr>\n",
       "    <tr>\n",
       "      <th>30</th>\n",
       "      <td>Milhouse Van Houten</td>\n",
       "    </tr>\n",
       "    <tr>\n",
       "      <th>31</th>\n",
       "      <td>Miss Hoover</td>\n",
       "    </tr>\n",
       "    <tr>\n",
       "      <th>32</th>\n",
       "      <td>Moe Szyslak</td>\n",
       "    </tr>\n",
       "    <tr>\n",
       "      <th>33</th>\n",
       "      <td>Ned Flanders</td>\n",
       "    </tr>\n",
       "    <tr>\n",
       "      <th>34</th>\n",
       "      <td>Nelson Muntz</td>\n",
       "    </tr>\n",
       "    <tr>\n",
       "      <th>35</th>\n",
       "      <td>Otto Mann</td>\n",
       "    </tr>\n",
       "    <tr>\n",
       "      <th>36</th>\n",
       "      <td>Patty Bouvier</td>\n",
       "    </tr>\n",
       "    <tr>\n",
       "      <th>37</th>\n",
       "      <td>Principal Skinner</td>\n",
       "    </tr>\n",
       "    <tr>\n",
       "      <th>38</th>\n",
       "      <td>Professor John Frink</td>\n",
       "    </tr>\n",
       "    <tr>\n",
       "      <th>39</th>\n",
       "      <td>Rainier Wolfcastle</td>\n",
       "    </tr>\n",
       "    <tr>\n",
       "      <th>40</th>\n",
       "      <td>Ralph Wiggum</td>\n",
       "    </tr>\n",
       "    <tr>\n",
       "      <th>41</th>\n",
       "      <td>Selma Bouvier</td>\n",
       "    </tr>\n",
       "    <tr>\n",
       "      <th>42</th>\n",
       "      <td>Sideshow Bob</td>\n",
       "    </tr>\n",
       "    <tr>\n",
       "      <th>43</th>\n",
       "      <td>Sideshow Mel</td>\n",
       "    </tr>\n",
       "    <tr>\n",
       "      <th>44</th>\n",
       "      <td>Snake Jailbird</td>\n",
       "    </tr>\n",
       "    <tr>\n",
       "      <th>45</th>\n",
       "      <td>Troy Mcclure</td>\n",
       "    </tr>\n",
       "    <tr>\n",
       "      <th>46</th>\n",
       "      <td>Waylon Smithers</td>\n",
       "    </tr>\n",
       "  </tbody>\n",
       "</table>\n",
       "</div>"
      ],
      "text/plain": [
       "                        name\n",
       "0     Abraham Grampa Simpson\n",
       "1              Agnes Skinner\n",
       "2     Apu Nahasapeemapetilon\n",
       "3              Barney Gumble\n",
       "4               Bart Simpson\n",
       "5              Bumblebee Man\n",
       "6               Carl Carlson\n",
       "7   Charles Montgomery Burns\n",
       "8               Chief Wiggum\n",
       "9            Cletus Spuckler\n",
       "10            Comic Book Guy\n",
       "11                 Disco Stu\n",
       "12            Edna Krabappel\n",
       "13                  Fat Tony\n",
       "14                       Gil\n",
       "15      Groundskeeper Willie\n",
       "16              Hans Moleman\n",
       "17             Helen Lovejoy\n",
       "18             Homer Simpson\n",
       "19            Jasper Beardly\n",
       "20               Jimbo Jones\n",
       "21             Kent Brockman\n",
       "22          Krusty The Clown\n",
       "23             Lenny Leonard\n",
       "24               Lionel Hutz\n",
       "25              Lisa Simpson\n",
       "26            Maggie Simpson\n",
       "27             Marge Simpson\n",
       "28             Martin Prince\n",
       "29              Mayor Quimby\n",
       "30       Milhouse Van Houten\n",
       "31               Miss Hoover\n",
       "32               Moe Szyslak\n",
       "33              Ned Flanders\n",
       "34              Nelson Muntz\n",
       "35                 Otto Mann\n",
       "36             Patty Bouvier\n",
       "37         Principal Skinner\n",
       "38      Professor John Frink\n",
       "39        Rainier Wolfcastle\n",
       "40              Ralph Wiggum\n",
       "41             Selma Bouvier\n",
       "42              Sideshow Bob\n",
       "43              Sideshow Mel\n",
       "44            Snake Jailbird\n",
       "45              Troy Mcclure\n",
       "46           Waylon Smithers"
      ]
     },
     "execution_count": 169,
     "metadata": {},
     "output_type": "execute_result"
    }
   ],
   "source": [
    "person = pd.read_csv('number_pic_char.csv', index_col = 0)\n",
    "person.sort_values(by=['name'], inplace=True)\n",
    "person.drop(['total', 'train', 'test', 'bounding_box',], axis = 1, inplace=True)\n",
    "person.reset_index(drop = True, inplace=True)\n",
    "person"
   ]
  },
  {
   "cell_type": "code",
   "execution_count": 170,
   "metadata": {},
   "outputs": [
    {
     "data": {
      "text/html": [
       "<div>\n",
       "<style scoped>\n",
       "    .dataframe tbody tr th:only-of-type {\n",
       "        vertical-align: middle;\n",
       "    }\n",
       "\n",
       "    .dataframe tbody tr th {\n",
       "        vertical-align: top;\n",
       "    }\n",
       "\n",
       "    .dataframe thead th {\n",
       "        text-align: right;\n",
       "    }\n",
       "</style>\n",
       "<table border=\"1\" class=\"dataframe\">\n",
       "  <thead>\n",
       "    <tr style=\"text-align: right;\">\n",
       "      <th></th>\n",
       "      <th>name</th>\n",
       "    </tr>\n",
       "  </thead>\n",
       "  <tbody>\n",
       "    <tr>\n",
       "      <th>0</th>\n",
       "      <td>Abraham Grampa Simpson</td>\n",
       "    </tr>\n",
       "    <tr>\n",
       "      <th>1</th>\n",
       "      <td>Agnes Skinner</td>\n",
       "    </tr>\n",
       "    <tr>\n",
       "      <th>2</th>\n",
       "      <td>Barney Gumble</td>\n",
       "    </tr>\n",
       "    <tr>\n",
       "      <th>3</th>\n",
       "      <td>Bart Simpson</td>\n",
       "    </tr>\n",
       "    <tr>\n",
       "      <th>4</th>\n",
       "      <td>Comic Book Guy</td>\n",
       "    </tr>\n",
       "    <tr>\n",
       "      <th>5</th>\n",
       "      <td>Homer Simpson</td>\n",
       "    </tr>\n",
       "    <tr>\n",
       "      <th>6</th>\n",
       "      <td>Lisa Simpson</td>\n",
       "    </tr>\n",
       "    <tr>\n",
       "      <th>7</th>\n",
       "      <td>Marge Simpson</td>\n",
       "    </tr>\n",
       "    <tr>\n",
       "      <th>8</th>\n",
       "      <td>Mayor Quimby</td>\n",
       "    </tr>\n",
       "    <tr>\n",
       "      <th>9</th>\n",
       "      <td>Milhouse Van Houten</td>\n",
       "    </tr>\n",
       "  </tbody>\n",
       "</table>\n",
       "</div>"
      ],
      "text/plain": [
       "                     name\n",
       "0  Abraham Grampa Simpson\n",
       "1           Agnes Skinner\n",
       "2           Barney Gumble\n",
       "3            Bart Simpson\n",
       "4          Comic Book Guy\n",
       "5           Homer Simpson\n",
       "6            Lisa Simpson\n",
       "7           Marge Simpson\n",
       "8            Mayor Quimby\n",
       "9     Milhouse Van Houten"
      ]
     },
     "execution_count": 170,
     "metadata": {},
     "output_type": "execute_result"
    }
   ],
   "source": [
    "person.drop([2,5,6,7,8, 9, 11, 12, 13, 14,15, 16, 17, 19, 20,21,22,23, 24,26,28,31,32 ,34,35,36,37,38, 39,40,41,42 ,43, 44, 45,46], inplace=True)\n",
    "person.reset_index(drop = True, inplace=True)\n",
    "person.head(10)"
   ]
  },
  {
   "cell_type": "code",
   "execution_count": 174,
   "metadata": {},
   "outputs": [],
   "source": [
    "imagem=r\"C:\\Users\\pmrud\\Desktop\\test\\lisa_simpson\\pic_0038.jpg\""
   ]
  },
  {
   "cell_type": "code",
   "execution_count": 175,
   "metadata": {},
   "outputs": [
    {
     "data": {
      "text/plain": [
       "array([0., 0., 0., 0., 0., 0., 1., 0., 0., 0.], dtype=float32)"
      ]
     },
     "execution_count": 175,
     "metadata": {},
     "output_type": "execute_result"
    }
   ],
   "source": [
    "result = []\n",
    "\n",
    "test_image = image.load_img(imagem, target_size=(64, 64))\n",
    "test_image = image.img_to_array(test_image)\n",
    "test_image = np.expand_dims(test_image, axis=0)\n",
    "\n",
    "pred = model.predict_on_batch(test_image)\n",
    "result.append(pred)\n",
    "\n",
    "result = np.asarray(result)\n",
    "imprime = np.array(result[0][0])\n",
    "imprime"
   ]
  },
  {
   "cell_type": "code",
   "execution_count": 177,
   "metadata": {},
   "outputs": [
    {
     "name": "stdout",
     "output_type": "stream",
     "text": [
      "The predicted character Lisa Simpson\n"
     ]
    },
    {
     "data": {
      "image/png": "[encoded data removed]",
      "text/plain": [
       "<matplotlib.figure.Figure at 0x1edbab44f60>"
      ]
     },
     "metadata": {},
     "output_type": "display_data"
    }
   ],
   "source": [
    "result_final  = imprime.argmax()\n",
    "imagem = r\"C:\\Users\\pmrud\\Desktop\\test\\lisa_simpson\\pic_0038.jpg\"\n",
    "imagem = mpimg.imread(imagem)\n",
    "plt.imshow(imagem)\n",
    "print('The predicted character '+person.loc[result_final][0])"
   ]
  },
  {
   "cell_type": "code",
   "execution_count": null,
   "metadata": {},
   "outputs": [],
   "source": []
  }
 ],
 "metadata": {
  "kernelspec": {
   "display_name": "Python 3",
   "language": "python",
   "name": "python3"
  },
  "language_info": {
   "codemirror_mode": {
    "name": "ipython",
    "version": 3
   },
   "file_extension": ".py",
   "mimetype": "text/x-python",
   "name": "python",
   "nbconvert_exporter": "python",
   "pygments_lexer": "ipython3",
   "version": "3.6.4"
  }
 },
 "nbformat": 4,
 "nbformat_minor": 2
}
